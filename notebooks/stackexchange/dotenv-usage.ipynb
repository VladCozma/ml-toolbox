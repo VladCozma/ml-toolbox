{
 "cells": [
  {
   "cell_type": "code",
   "execution_count": 10,
   "metadata": {},
   "outputs": [
    {
     "name": "stdout",
     "output_type": "stream",
     "text": [
      "MY_VAR =  HELLO_ALICE\n",
      "MY_VAR =  HELLO_BOB\n"
     ]
    }
   ],
   "source": [
    "import dotenv\n",
    "from os import environ\n",
    "env_file = '../.env'\n",
    "\n",
    "f = open(env_file,'w')\n",
    "f.write('MY_VAR=\"HELLO_ALICE\"')\n",
    "f.close()\n",
    "dotenv.load_dotenv(env_file, override=True)\n",
    "print('MY_VAR = ', environ.get('MY_VAR'))\n",
    "\n",
    "f = open(env_file,'w')\n",
    "f.write('MY_VAR=\"HELLO_BOB\"')\n",
    "f.close()\n",
    "dotenv.load_dotenv(env_file, override=True)\n",
    "print('MY_VAR = ', environ.get('MY_VAR'))\n"
   ]
  }
 ],
 "metadata": {
  "interpreter": {
   "hash": "55154064ce375333dc1f57f7c23f8753fbe963ac1049184a48b04bdb270e030b"
  },
  "kernelspec": {
   "display_name": "Python 3.9.7 64-bit ('venv': venv)",
   "language": "python",
   "name": "python3"
  },
  "language_info": {
   "codemirror_mode": {
    "name": "ipython",
    "version": 3
   },
   "file_extension": ".py",
   "mimetype": "text/x-python",
   "name": "python",
   "nbconvert_exporter": "python",
   "pygments_lexer": "ipython3",
   "version": "3.9.7"
  },
  "orig_nbformat": 4
 },
 "nbformat": 4,
 "nbformat_minor": 2
}
