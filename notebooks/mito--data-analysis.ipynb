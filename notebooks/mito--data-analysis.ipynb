{
 "cells": [
  {
   "cell_type": "markdown",
   "metadata": {},
   "source": [
    "<table class=\"ee-notebook-buttons\" align=\"left\">\n",
    "    <td><a target=\"_blank\"  href=\"https://github.com/giswqs/geemap/tree/master/examples/template/template.ipynb\"><img width=32px src=\"https://www.tensorflow.org/images/GitHub-Mark-32px.png\" /> View source on GitHub</a></td>\n",
    "    <td><a target=\"_blank\"  href=\"https://nbviewer.jupyter.org/github/VladCozma/ml-toolbox/edit/main/notebooks/mito--data-analysis.ipynb\"><img width=26px src=\"https://upload.wikimedia.org/wikipedia/commons/thumb/3/38/Jupyter_logo.svg/883px-Jupyter_logo.svg.png\" />Notebook Viewer</a></td>\n",
    "    <td><a target=\"_blank\"  href=\"https://colab.research.google.com/github/giswqs/geemap/blob/master/examples/template/template.ipynb\"><img src=\"https://www.tensorflow.org/images/colab_logo_32px.png\" /> Run in Google Colab</a></td>\n",
    "</table>"
   ]
  },
  {
   "cell_type": "markdown",
   "id": "8febe8db-cdcf-4fb5-986a-063920bc64f2",
   "metadata": {},
   "source": [
    "## What is Mito\n",
    "\n",
    "Python Data Analysis in Seconds  \n",
    "\n",
    "Explore, transform and present your data with the ease of Excel.  \n",
    "\n",
    "All without leaving Jupyter.  \n",
    "\n",
    "Examples and tutorials https://www.trymito.io/"
   ]
  },
  {
   "cell_type": "markdown",
   "id": "dd8b75d8-ea62-47e0-8256-51dca7c9f020",
   "metadata": {},
   "source": [
    "## Installation\n",
    "```python\n",
    "python -m pip install mitoinstaller\n",
    "python -m mitoinstaller install\n",
    "```"
   ]
  },
  {
   "cell_type": "code",
   "execution_count": 1,
   "id": "42063f84-bf87-4133-b0bf-96565f3bd3a9",
   "metadata": {},
   "outputs": [
    {
     "data": {
      "application/vnd.jupyter.widget-view+json": {
       "model_id": "83a18abc63a34955a917a2b6aa139b70",
       "version_major": 2,
       "version_minor": 0
      },
      "text/plain": [
       "MitoWidget(analysis_data_json='{\"analysisName\": \"UUID-0b7f11e0-c1ef-4341-8dca-50381b446008\", \"code\": {\"imports…"
      ]
     },
     "metadata": {},
     "output_type": "display_data"
    }
   ],
   "source": [
    "import mitosheet\n",
    "mitosheet.sheet()"
   ]
  },
  {
   "cell_type": "code",
   "execution_count": null,
   "id": "e3bb86d5-9d51-45f5-8a2d-aedc1ef6b63c",
   "metadata": {},
   "outputs": [],
   "source": [
    "from mitosheet import *; register_analysis('UUID-0b7f11e0-c1ef-4341-8dca-50381b446008')\n",
    "\n",
    "# Imported /Users/ag07rg/Developer/pers/github/ml-toolbox/data/Mito Tutorial Data/Airport-Pets.csv\n",
    "import pandas as pd\n",
    "Airport_Pets_csv = pd.read_csv(r'/Users/ag07rg/Developer/pers/github/ml-toolbox/data/Mito Tutorial Data/Airport-Pets.csv')\n",
    "\n",
    "# Filtered Division in Airport_Pets_csv\n",
    "Airport_Pets_csv = Airport_Pets_csv[Airport_Pets_csv['Division'] == 'Central']\n"
   ]
  }
 ],
 "metadata": {
  "kernelspec": {
   "display_name": "Python 3 (ipykernel)",
   "language": "python",
   "name": "python3"
  },
  "language_info": {
   "codemirror_mode": {
    "name": "ipython",
    "version": 3
   },
   "file_extension": ".py",
   "mimetype": "text/x-python",
   "name": "python",
   "nbconvert_exporter": "python",
   "pygments_lexer": "ipython3",
   "version": "3.9.7"
  }
 },
 "nbformat": 4,
 "nbformat_minor": 5
}
