{
 "cells": [
  {
   "cell_type": "markdown",
   "id": "8febe8db-cdcf-4fb5-986a-063920bc64f2",
   "metadata": {},
   "source": [
    "## What is Mito\n",
    "\n",
    "Python Data Analysis in Seconds  \n",
    "\n",
    "Explore, transform and present your data with the ease of Excel.  \n",
    "\n",
    "All without leaving Jupyter.  \n",
    "\n",
    "Examples and tutorials https://www.trymito.io/"
   ]
  },
  {
   "cell_type": "markdown",
   "id": "dd8b75d8-ea62-47e0-8256-51dca7c9f020",
   "metadata": {},
   "source": [
    "## Installation\n",
    "```python\n",
    "python -m pip install mitoinstaller\n",
    "python -m mitoinstaller install\n",
    "```"
   ]
  },
  {
   "cell_type": "code",
   "execution_count": 1,
   "id": "42063f84-bf87-4133-b0bf-96565f3bd3a9",
   "metadata": {},
   "outputs": [
    {
     "data": {
      "application/vnd.jupyter.widget-view+json": {
       "model_id": "83a18abc63a34955a917a2b6aa139b70",
       "version_major": 2,
       "version_minor": 0
      },
      "text/plain": [
       "MitoWidget(analysis_data_json='{\"analysisName\": \"UUID-0b7f11e0-c1ef-4341-8dca-50381b446008\", \"code\": {\"imports…"
      ]
     },
     "metadata": {},
     "output_type": "display_data"
    }
   ],
   "source": [
    "import mitosheet\n",
    "mitosheet.sheet()"
   ]
  },
  {
   "cell_type": "code",
   "execution_count": null,
   "id": "e3bb86d5-9d51-45f5-8a2d-aedc1ef6b63c",
   "metadata": {},
   "outputs": [],
   "source": [
    "from mitosheet import *; register_analysis('UUID-0b7f11e0-c1ef-4341-8dca-50381b446008')\n",
    "\n",
    "# Imported /Users/ag07rg/Developer/pers/github/ml-toolbox/data/Mito Tutorial Data/Airport-Pets.csv\n",
    "import pandas as pd\n",
    "Airport_Pets_csv = pd.read_csv(r'/Users/ag07rg/Developer/pers/github/ml-toolbox/data/Mito Tutorial Data/Airport-Pets.csv')\n",
    "\n",
    "# Filtered Division in Airport_Pets_csv\n",
    "Airport_Pets_csv = Airport_Pets_csv[Airport_Pets_csv['Division'] == 'Central']\n"
   ]
  }
 ],
 "metadata": {
  "kernelspec": {
   "display_name": "Python 3 (ipykernel)",
   "language": "python",
   "name": "python3"
  },
  "language_info": {
   "codemirror_mode": {
    "name": "ipython",
    "version": 3
   },
   "file_extension": ".py",
   "mimetype": "text/x-python",
   "name": "python",
   "nbconvert_exporter": "python",
   "pygments_lexer": "ipython3",
   "version": "3.9.7"
  }
 },
 "nbformat": 4,
 "nbformat_minor": 5
}
