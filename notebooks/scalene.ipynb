{
 "cells": [
  {
   "cell_type": "code",
   "execution_count": 1,
   "metadata": {},
   "outputs": [],
   "source": [
    "# An example program to profile\n",
    "\n",
    "import numpy as np\n",
    "\n",
    "def test_me():\n",
    "    for i in range(6):\n",
    "        x = np.array(range(10**7))\n",
    "        y = np.array(np.random.uniform(0, 100, size=(10**8)))"
   ]
  },
  {
   "cell_type": "code",
   "execution_count": 2,
   "metadata": {},
   "outputs": [
    {
     "name": "stdout",
     "output_type": "stream",
     "text": [
      "Scalene extension successfully loaded. Note: Scalene currently only\n",
      "supports CPU+GPU profiling inside Jupyter notebooks. For full Scalene\n",
      "profiling, use the command line version.\n"
     ]
    }
   ],
   "source": [
    "# Load Scalene\n",
    "%load_ext scalene"
   ]
  },
  {
   "cell_type": "code",
   "execution_count": 7,
   "metadata": {},
   "outputs": [
    {
     "name": "stdout",
     "output_type": "stream",
     "text": [
      "\u001b[3m                                             [7]: % of time =  99.58% out of  13.35s.                                              \u001b[0m\n",
      "        ╷        ╷       ╷       ╷                                                                                                 \n",
      " \u001b[1m       \u001b[0m│\u001b[1;34mTime\u001b[0m\u001b[1m   \u001b[0m\u001b[1m \u001b[0m│\u001b[1;34m––––––\u001b[0m\u001b[1m \u001b[0m│\u001b[1;34m––––––\u001b[0m\u001b[1m \u001b[0m│\u001b[1m                                                                                               \u001b[0m\u001b[1m \u001b[0m \n",
      " \u001b[1m \u001b[0m\u001b[1;2mLine\u001b[0m\u001b[1m \u001b[0m\u001b[1m \u001b[0m│\u001b[1;3;34mPython\u001b[0m\u001b[1m \u001b[0m\u001b[1m \u001b[0m│\u001b[1;3;34mnative\u001b[0m\u001b[1m \u001b[0m│\u001b[1;3;34msystem\u001b[0m\u001b[1m \u001b[0m│\u001b[1m[7]                                                                                            \u001b[0m\u001b[1m \u001b[0m \n",
      "╺━━━━━━━┿━━━━━━━━┿━━━━━━━┿━━━━━━━┿━━━━━━━━━━━━━━━━━━━━━━━━━━━━━━━━━━━━━━━━━━━━━━━━━━━━━━━━━━━━━━━━━━━━━━━━━━━━━━━━━━━━━━━━━━━━━━━━╸\n",
      " \u001b[2m \u001b[0m\u001b[2m    1\u001b[0m\u001b[2m \u001b[0m│\u001b[34m       \u001b[0m\u001b[34m \u001b[0m│\u001b[34m      \u001b[0m\u001b[34m \u001b[0m│\u001b[34m      \u001b[0m\u001b[34m \u001b[0m│\u001b[38;2;0;0;128;48;2;0;0;0m# Profile just one line of code\u001b[0m\u001b[48;2;0;0;0m                                                                \u001b[0m  \n",
      " \u001b[2m \u001b[0m\u001b[2m    2\u001b[0m\u001b[2m \u001b[0m│\u001b[1;31m    1%\u001b[0m\u001b[34m \u001b[0m\u001b[34m \u001b[0m│\u001b[1;31m   60%\u001b[0m\u001b[34m \u001b[0m│\u001b[34m  39% \u001b[0m\u001b[34m \u001b[0m│\u001b[38;2;51;153;204;48;2;0;0;0m%\u001b[0m\u001b[38;2;204;204;204;48;2;0;0;0mscrun\u001b[0m\u001b[38;2;204;204;204;48;2;0;0;0m \u001b[0m\u001b[38;2;204;204;204;48;2;0;0;0mtest_me\u001b[0m\u001b[38;2;204;204;204;48;2;0;0;0m(\u001b[0m\u001b[38;2;204;204;204;48;2;0;0;0m)\u001b[0m\u001b[48;2;0;0;0m                                                                               \u001b[0m  \n",
      "        ╵        ╵       ╵       ╵                                                                                                 \n"
     ]
    }
   ],
   "source": [
    "# Profile just one line of code\n",
    "%scrun test_me()"
   ]
  },
  {
   "cell_type": "code",
   "execution_count": 5,
   "metadata": {},
   "outputs": [],
   "source": [
    "test_me()"
   ]
  },
  {
   "cell_type": "code",
   "execution_count": null,
   "metadata": {},
   "outputs": [],
   "source": []
  }
 ],
 "metadata": {
  "interpreter": {
   "hash": "55154064ce375333dc1f57f7c23f8753fbe963ac1049184a48b04bdb270e030b"
  },
  "kernelspec": {
   "display_name": "Python 3 (ipykernel)",
   "language": "python",
   "name": "python3"
  },
  "language_info": {
   "codemirror_mode": {
    "name": "ipython",
    "version": 3
   },
   "file_extension": ".py",
   "mimetype": "text/x-python",
   "name": "python",
   "nbconvert_exporter": "python",
   "pygments_lexer": "ipython3",
   "version": "3.9.7"
  }
 },
 "nbformat": 4,
 "nbformat_minor": 4
}
